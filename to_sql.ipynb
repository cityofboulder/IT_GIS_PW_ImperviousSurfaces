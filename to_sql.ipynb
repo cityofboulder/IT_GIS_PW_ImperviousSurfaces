{
 "cells": [
  {
   "cell_type": "code",
   "execution_count": null,
   "metadata": {},
   "outputs": [],
   "source": [
    "import geopandas as gpd\n",
    "\n",
    "from impervious import GeoSQL, get_creds\n",
    "\n",
    "shp = gpd.read_file(r'C:\\Users\\nestj1\\Scripts\\IT_GIS_PW_ImperviousSurfaces\\data\\PseudoTopology.shp')"
   ]
  },
  {
   "cell_type": "code",
   "execution_count": null,
   "metadata": {},
   "outputs": [],
   "source": [
    "db_creds = get_creds('gis', 'pw')\n",
    "db_kwargs = {\n",
    "    'server': 'sqlprod19gis',\n",
    "    'db': 'GISReferenceData',\n",
    "    'user': db_creds['username'],\n",
    "    'pwd': db_creds['password'],\n",
    "    'schema': 'PW',\n",
    "    'table': 'ImperviousSurfaces'\n",
    "}\n",
    "ref_db = GeoSQL(**db_kwargs)"
   ]
  },
  {
   "cell_type": "code",
   "execution_count": null,
   "metadata": {},
   "outputs": [],
   "source": [
    "shp['shape'] = shp['geometry'].to_wkt(rounding_precision=-1)"
   ]
  },
  {
   "cell_type": "code",
   "execution_count": null,
   "metadata": {},
   "outputs": [],
   "source": [
    "ref_db.truncate()\n",
    "ref_db.insert(shp)"
   ]
  },
  {
   "cell_type": "code",
   "execution_count": null,
   "metadata": {},
   "outputs": [],
   "source": []
  }
 ],
 "metadata": {
  "kernelspec": {
   "display_name": "imperviousenv",
   "language": "python",
   "name": "python3"
  },
  "language_info": {
   "codemirror_mode": {
    "name": "ipython",
    "version": 3
   },
   "file_extension": ".py",
   "mimetype": "text/x-python",
   "name": "python",
   "nbconvert_exporter": "python",
   "pygments_lexer": "ipython3",
   "version": "3.11.6"
  }
 },
 "nbformat": 4,
 "nbformat_minor": 2
}
